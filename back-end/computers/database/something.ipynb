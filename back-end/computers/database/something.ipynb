{
 "cells": [
  {
   "cell_type": "code",
   "execution_count": 83,
   "metadata": {},
   "outputs": [],
   "source": [
    "from lxml import etree\n",
    "import xmlschema\n",
    "   "
   ]
  },
  {
   "cell_type": "code",
   "execution_count": 86,
   "metadata": {},
   "outputs": [],
   "source": [
    "computers_schema=xmlschema.XMLSchema11(\"D:\\\\ComputerStore\\\\computers\\\\database\\\\computers.xsd\")"
   ]
  },
  {
   "cell_type": "code",
   "execution_count": 59,
   "metadata": {},
   "outputs": [
    {
     "name": "stdout",
     "output_type": "stream",
     "text": [
      "capacity\n",
      "capacity\n",
      "capacity\n",
      "capacity\n",
      "capacity\n",
      "capacity\n",
      "capacity\n",
      "capacity\n",
      "capacity\n",
      "capacity\n",
      "capacity\n",
      "capacity\n",
      "capacity\n",
      "capacity\n",
      "capacity\n",
      "capacity\n",
      "capacity\n",
      "capacity\n",
      "capacity\n",
      "capacity\n",
      "capacity\n",
      "capacity\n",
      "capacity\n",
      "capacity\n",
      "capacity\n",
      "capacity\n",
      "capacity\n",
      "capacity\n",
      "capacity\n",
      "capacity\n",
      "capacity\n",
      "capacity\n",
      "capacity\n",
      "capacity\n",
      "capacity\n",
      "capacity\n",
      "capacity\n",
      "capacity\n",
      "capacity\n",
      "capacity\n",
      "capacity\n",
      "capacity\n",
      "capacity\n",
      "capacity\n",
      "capacity\n",
      "capacity\n",
      "capacity\n",
      "capacity\n",
      "capacity\n",
      "capacity\n"
     ]
    }
   ],
   "source": [
    "root = etree.parse('computers.xml')\n",
    "computers=root.getroot()\n",
    "\n",
    "for elt in root.xpath('/computers/computer/storage/capacity'):\n",
    "    print(elt.tag)\n"
   ]
  },
  {
   "cell_type": "code",
   "execution_count": 45,
   "metadata": {},
   "outputs": [],
   "source": [
    "my_schema.validate('D:\\\\ComputerStore\\\\computers\\\\database\\\\computers.xml')"
   ]
  },
  {
   "cell_type": "code",
   "execution_count": 98,
   "metadata": {},
   "outputs": [],
   "source": [
    "users_schema=xmlschema.XMLSchema11(\"D:\\\\ComputerStore\\\\computers\\\\database\\\\users.xsd\")"
   ]
  },
  {
   "cell_type": "code",
   "execution_count": 100,
   "metadata": {},
   "outputs": [],
   "source": [
    "users_schema.validate('D:\\\\ComputerStore\\\\computers\\\\database\\\\users.xml')"
   ]
  },
  {
   "cell_type": "code",
   "execution_count": 119,
   "metadata": {},
   "outputs": [
    {
     "name": "stdout",
     "output_type": "stream",
     "text": [
      "[]\n"
     ]
    }
   ],
   "source": [
    "root = etree.parse('D:\\\\ComputerStore\\\\users\\\\database\\\\users.xml')\n",
    "computers=root.getroot()\n",
    "\n",
    "print(root.xpath('/users/user[@id=5]'))\n"
   ]
  },
  {
   "cell_type": "code",
   "execution_count": 141,
   "metadata": {},
   "outputs": [],
   "source": [
    "carts_schema=xmlschema.XMLSchema11(\"D:\\\\ComputerStore\\\\carts\\\\database\\\\carts.xsd\")"
   ]
  },
  {
   "cell_type": "code",
   "execution_count": 142,
   "metadata": {},
   "outputs": [],
   "source": [
    "\n",
    "try:\n",
    "    carts_schema.validate(r\"D:\\\\ComputerStore\\\\carts\\\\database\\\\cartv.xml\")\n",
    "except Exception as er:\n",
    "    print(er)\n",
    "\n",
    "\n"
   ]
  },
  {
   "cell_type": "code",
   "execution_count": null,
   "metadata": {},
   "outputs": [],
   "source": []
  }
 ],
 "metadata": {
  "interpreter": {
   "hash": "6a5be7e2a1d793f8cd5330bfb9ff554ba4f2fc0a98144b5c96051bcfdadc5497"
  },
  "kernelspec": {
   "display_name": "Python 3.10.1 64-bit ('ComputerStore-1T0Z7av-': pipenv)",
   "language": "python",
   "name": "python3"
  },
  "language_info": {
   "codemirror_mode": {
    "name": "ipython",
    "version": 3
   },
   "file_extension": ".py",
   "mimetype": "text/x-python",
   "name": "python",
   "nbconvert_exporter": "python",
   "pygments_lexer": "ipython3",
   "version": "3.10.1"
  },
  "orig_nbformat": 4
 },
 "nbformat": 4,
 "nbformat_minor": 2
}
